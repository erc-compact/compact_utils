{
 "cells": [
  {
   "cell_type": "code",
   "execution_count": 1,
   "metadata": {},
   "outputs": [
    {
     "name": "stdout",
     "output_type": "stream",
     "text": [
      "******************UHF-band******************\n",
      "nsamps:  478125000\n",
      "power of 2:  26 prime factor:  7 difference:  8362952\n",
      "Losing 1.7491141437908495 % of data\n",
      "best tobs:  7074.063781647059 seconds =  117.90106302745099 minutes =  1.965017717124183 hours\n",
      "******************S-band******************\n",
      "nsamps:  769042968\n",
      "power of 2:  28 prime factor:  3 difference:  -36263400\n",
      "Adding 4.715393223646251 % of data\n",
      "best tobs:  7539.508304749714 seconds =  125.65847174582856 minutes =  2.094307862430476 hours\n",
      "******************L-band******************\n",
      "nsamps:  752343750\n",
      "power of 2:  28 prime factor:  3 difference:  -52962618\n",
      "Adding 7.0396833894081 % of data\n",
      "best tobs:  7706.857204037384 seconds =  128.44762006728973 minutes =  2.140793667788162 hours\n"
     ]
    }
   ],
   "source": [
    "import numpy as np\n",
    "import math\n",
    "\n",
    "def get_closest_prime_factors(tobs, tsamp):\n",
    "\n",
    "    nsamps = int(tobs/tsamp)\n",
    "    \n",
    "    next_power_of_two = math.ceil(math.log(nsamps,2))\n",
    "\n",
    "    print('nsamps: ', nsamps)\n",
    "\n",
    "    for i in range(next_power_of_two-4, next_power_of_two):\n",
    "        for j in [2,3,5,7]:\n",
    "            difference = nsamps - 2**i * j\n",
    "            percent = difference / nsamps * 100\n",
    "            if abs(percent) < 10:\n",
    "                if difference >= 0:\n",
    "                    print('power of 2: ', i, 'prime factor: ', j, 'difference: ', difference)\n",
    "                    print('Losing', percent, '% of data')\n",
    "                else:\n",
    "                    print('power of 2: ', i, 'prime factor: ', j, 'difference: ', difference)\n",
    "                    print('Adding', -percent, '% of data')\n",
    "                print('best tobs: ', 2**i * j * tsamp , 'seconds = ', 2**i * j * tsamp/ 60, 'minutes = ', 2**i * j * tsamp/ 3600, 'hours')\n",
    "\n",
    "factor=2\n",
    "print(\"******************UHF-band******************\")\n",
    "get_closest_prime_factors(7200,factor * 4096/544e6)\n",
    "print(\"******************S-band******************\")\n",
    "get_closest_prime_factors(7200,factor * 4096/875e6)\n",
    "print(\"******************L-band******************\")\n",
    "get_closest_prime_factors(7200,factor * 4096/856e6)\n",
    "\n",
    "\n"
   ]
  },
  {
   "cell_type": "code",
   "execution_count": null,
   "metadata": {},
   "outputs": [],
   "source": []
  }
 ],
 "metadata": {
  "kernelspec": {
   "display_name": "Python 3",
   "language": "python",
   "name": "python3"
  },
  "language_info": {
   "codemirror_mode": {
    "name": "ipython",
    "version": 3
   },
   "file_extension": ".py",
   "mimetype": "text/x-python",
   "name": "python",
   "nbconvert_exporter": "python",
   "pygments_lexer": "ipython3",
   "version": "3.11.9"
  },
  "orig_nbformat": 4
 },
 "nbformat": 4,
 "nbformat_minor": 2
}
